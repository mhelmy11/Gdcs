{
  "nbformat": 4,
  "nbformat_minor": 0,
  "metadata": {
    "colab": {
      "provenance": [],
      "collapsed_sections": [],
      "authorship_tag": "ABX9TyMg8uUG60cHxhxuTAyGiMRH",
      "include_colab_link": true
    },
    "kernelspec": {
      "name": "python3",
      "display_name": "Python 3"
    },
    "language_info": {
      "name": "python"
    }
  },
  "cells": [
    {
      "cell_type": "markdown",
      "metadata": {
        "id": "view-in-github",
        "colab_type": "text"
      },
      "source": [
        "<a href=\"https://colab.research.google.com/github/mhelmy11/Gdcs/blob/main/GDSC-Second%20Task.ipynb\" target=\"_parent\"><img src=\"https://colab.research.google.com/assets/colab-badge.svg\" alt=\"Open In Colab\"/></a>"
      ]
    },
    {
      "cell_type": "markdown",
      "source": [
        "# **Second Task**\n",
        "\n",
        "\n",
        "\n"
      ],
      "metadata": {
        "id": "hopyqPgq_x60"
      }
    },
    {
      "cell_type": "code",
      "execution_count": 2,
      "metadata": {
        "colab": {
          "base_uri": "https://localhost:8080/"
        },
        "id": "30KqTV35zBpf",
        "outputId": "6cc04843-1b5b-44a9-c3aa-21154324e438"
      },
      "outputs": [
        {
          "output_type": "stream",
          "name": "stdout",
          "text": [
            "7\n",
            "7---14---21---28---35\n"
          ]
        }
      ],
      "source": [
        "x = int(input())\n",
        "print(x,2*x,3*x,4*x,5*x,sep=\"---\")"
      ]
    },
    {
      "cell_type": "code",
      "source": [
        "weight_in_kilo = int(input())\n",
        "print(f\"{weight_in_kilo} Kilogram =\",weight_in_kilo*2.2 , \"Pound\")"
      ],
      "metadata": {
        "colab": {
          "base_uri": "https://localhost:8080/"
        },
        "id": "E4UkfNwG03jF",
        "outputId": "88e92a70-1c31-41c1-834a-ab5a4b6e58a7"
      },
      "execution_count": 7,
      "outputs": [
        {
          "output_type": "stream",
          "name": "stdout",
          "text": [
            "5\n",
            "5 Kilogram = 11.0 Pound\n"
          ]
        }
      ]
    },
    {
      "cell_type": "code",
      "source": [
        "price = float(input(\"Enter the price of the meal \").strip())\n",
        "tip = float(input(\"Enter the percent tip \").strip())\n",
        "print(\"the tip amount =\",(tip/100)*price)\n",
        "print(\"the total price =\",((tip/100)*price)+price)\n"
      ],
      "metadata": {
        "colab": {
          "base_uri": "https://localhost:8080/"
        },
        "id": "svIZsXn51tlT",
        "outputId": "be39449d-b218-4938-c994-a855e39c2094"
      },
      "execution_count": 9,
      "outputs": [
        {
          "output_type": "stream",
          "name": "stdout",
          "text": [
            "Enter the price of the meal 100\n",
            "Enter the percent tip 50\n",
            "the tip amount = 50.0\n",
            "the total price = 150.0\n"
          ]
        }
      ]
    },
    {
      "cell_type": "code",
      "source": [
        "for i in reversed(range(1,101)):\n",
        "  if not(i&1) : print(i,end=\",\")               #betwise (&) is more faster than mod (%)"
      ],
      "metadata": {
        "colab": {
          "base_uri": "https://localhost:8080/"
        },
        "id": "ltU45Deq20SS",
        "outputId": "e6abed51-5d03-4a96-87b1-d267026e1bc4"
      },
      "execution_count": 14,
      "outputs": [
        {
          "output_type": "stream",
          "name": "stdout",
          "text": [
            "100,98,96,94,92,90,88,86,84,82,80,78,76,74,72,70,68,66,64,62,60,58,56,54,52,50,48,46,44,42,40,38,36,34,32,30,28,26,24,22,20,18,16,14,12,10,8,6,4,2,"
          ]
        }
      ]
    },
    {
      "cell_type": "code",
      "source": [
        "for i in range(10):\n",
        "  print(\"A\",end=\"\")\n",
        "for i in range(7):\n",
        "  print(\"B\",end=\"\")\n",
        "for i in range(4):\n",
        "  print(\"CD\",end=\"\")\n",
        "print(\"E\" ,end=\"\")\n",
        "for i in range(6):\n",
        "  print(\"F\",end=\"\")\n",
        "print(\"G\",end=\"\")"
      ],
      "metadata": {
        "colab": {
          "base_uri": "https://localhost:8080/"
        },
        "id": "6ZOWP-ed3lAl",
        "outputId": "c28db878-df08-4494-9bcf-afe8e3bf9fef"
      },
      "execution_count": 16,
      "outputs": [
        {
          "output_type": "stream",
          "name": "stdout",
          "text": [
            "AAAAAAAAAABBBBBBBCDCDCDCDEFFFFFFG"
          ]
        }
      ]
    },
    {
      "cell_type": "code",
      "source": [
        "h = int(input(\"Enter High \"))\n",
        "w = int(input(\"Enter Wide \"))\n",
        "for i in range(h):\n",
        "  if i>0 and i<h-1:\n",
        "    print(\"*\",\"*\",sep=(\" \"*(w-2)))\n",
        "  else :print(\"*\"*w)"
      ],
      "metadata": {
        "colab": {
          "base_uri": "https://localhost:8080/"
        },
        "id": "chFYv2Bb5TcO",
        "outputId": "4c3a7f09-7134-4d45-d4b4-4c57e3f5bf98"
      },
      "execution_count": 25,
      "outputs": [
        {
          "output_type": "stream",
          "name": "stdout",
          "text": [
            "Enter High 4\n",
            "Enter Wide20\n",
            "********************\n",
            "*                  *\n",
            "*                  *\n",
            "********************\n"
          ]
        }
      ]
    },
    {
      "cell_type": "code",
      "source": [
        "h = int(input(\"Enter High \"))\n",
        "for i in range(h):\n",
        "  print(\"*\" *(i+1))\n"
      ],
      "metadata": {
        "colab": {
          "base_uri": "https://localhost:8080/"
        },
        "id": "Wue2rJNE65mn",
        "outputId": "81324764-4f53-4576-cff5-aac1b4372381"
      },
      "execution_count": 27,
      "outputs": [
        {
          "output_type": "stream",
          "name": "stdout",
          "text": [
            "Enter High 5\n",
            "*\n",
            "**\n",
            "***\n",
            "****\n",
            "*****\n"
          ]
        }
      ]
    },
    {
      "cell_type": "code",
      "source": [
        "h = int(input(\"Enter High : \"))\n",
        "for i in range(h):\n",
        "  print(\"*\" *(h-i))\n"
      ],
      "metadata": {
        "colab": {
          "base_uri": "https://localhost:8080/"
        },
        "id": "PuWq1sOc7QEB",
        "outputId": "d0c9d96e-53ca-48f2-8428-15162f454c18"
      },
      "execution_count": 32,
      "outputs": [
        {
          "output_type": "stream",
          "name": "stdout",
          "text": [
            "Enter High : 5\n",
            "*****\n",
            "****\n",
            "***\n",
            "**\n",
            "*\n"
          ]
        }
      ]
    },
    {
      "cell_type": "code",
      "source": [
        "h = int(input(\"Enter High \"))\n",
        "for i in range(h//2):\n",
        "  print(\" \"*(h-i),end=\" \")\n",
        "  print(\"*\"*(2*i+1))\n",
        "for i in range(h - h//2):\n",
        "  print(\" \" *(i + h - h//2) ,end = \" \")\n",
        "  print(\"*\"*((h - 2*i)))\n",
        "  \n"
      ],
      "metadata": {
        "colab": {
          "base_uri": "https://localhost:8080/"
        },
        "id": "adFr_j1v7wwZ",
        "outputId": "19706cd7-d35f-47f7-99ef-c8c92208dcb9"
      },
      "execution_count": 50,
      "outputs": [
        {
          "output_type": "stream",
          "name": "stdout",
          "text": [
            "Enter High 11\n",
            "            *\n",
            "           ***\n",
            "          *****\n",
            "         *******\n",
            "        *********\n",
            "       ***********\n",
            "        *********\n",
            "         *******\n",
            "          *****\n",
            "           ***\n",
            "            *\n"
          ]
        }
      ]
    },
    {
      "cell_type": "code",
      "source": [
        "h = int(input(\"Enter High \"))\n",
        "for i in range(h):\n",
        "  print(\" \"*(h-i),end=\" \")\n",
        "  if i!= h//2 and i!=0 :\n",
        "    print(\"*\", \"*\" , sep = \" \"*(2*i-1))\n",
        "  else :\n",
        "    print(\"*\"*(2*i+1))"
      ],
      "metadata": {
        "colab": {
          "base_uri": "https://localhost:8080/"
        },
        "id": "eXUvuI-f-AXM",
        "outputId": "7b0f4ac5-64f2-468e-a0c1-a30d8a989934"
      },
      "execution_count": 58,
      "outputs": [
        {
          "output_type": "stream",
          "name": "stdout",
          "text": [
            "Enter High 10\n",
            "           *\n",
            "          * *\n",
            "         *   *\n",
            "        *     *\n",
            "       *       *\n",
            "      ***********\n",
            "     *           *\n",
            "    *             *\n",
            "   *               *\n",
            "  *                 *\n"
          ]
        }
      ]
    },
    {
      "cell_type": "code",
      "source": [],
      "metadata": {
        "id": "hc17Moxu_bug"
      },
      "execution_count": null,
      "outputs": []
    }
  ]
}